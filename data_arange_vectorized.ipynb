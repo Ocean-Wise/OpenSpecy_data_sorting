{
 "cells": [
  {
   "cell_type": "code",
   "execution_count": 14,
   "metadata": {},
   "outputs": [
    {
     "data": {
      "text/html": [
       "<div>\n",
       "<style scoped>\n",
       "    .dataframe tbody tr th:only-of-type {\n",
       "        vertical-align: middle;\n",
       "    }\n",
       "\n",
       "    .dataframe tbody tr th {\n",
       "        vertical-align: top;\n",
       "    }\n",
       "\n",
       "    .dataframe thead th {\n",
       "        text-align: right;\n",
       "    }\n",
       "</style>\n",
       "<table border=\"1\" class=\"dataframe\">\n",
       "  <thead>\n",
       "    <tr style=\"text-align: right;\">\n",
       "      <th></th>\n",
       "      <th>wavenumber</th>\n",
       "      <th>intensity</th>\n",
       "      <th>sample_name</th>\n",
       "    </tr>\n",
       "  </thead>\n",
       "  <tbody>\n",
       "    <tr>\n",
       "      <th>18859275</th>\n",
       "      <td>900.000012</td>\n",
       "      <td>0.133510</td>\n",
       "      <td>b826e94d75e66fbf3885d38f20d2dc21</td>\n",
       "    </tr>\n",
       "    <tr>\n",
       "      <th>22660335</th>\n",
       "      <td>900.000012</td>\n",
       "      <td>3.854880</td>\n",
       "      <td>c5b090627048e93d987d11f0ff628072</td>\n",
       "    </tr>\n",
       "    <tr>\n",
       "      <th>28448492</th>\n",
       "      <td>900.000154</td>\n",
       "      <td>3.201210</td>\n",
       "      <td>3037666223719e1157c6e0688fabb2f2</td>\n",
       "    </tr>\n",
       "    <tr>\n",
       "      <th>17573997</th>\n",
       "      <td>900.000154</td>\n",
       "      <td>1.229470</td>\n",
       "      <td>acd9308cb967cbeeafe4574222448290</td>\n",
       "    </tr>\n",
       "    <tr>\n",
       "      <th>21289867</th>\n",
       "      <td>900.000154</td>\n",
       "      <td>3.201210</td>\n",
       "      <td>b25cd3333e5c5ba401fcdbcc667df7cf</td>\n",
       "    </tr>\n",
       "    <tr>\n",
       "      <th>...</th>\n",
       "      <td>...</td>\n",
       "      <td>...</td>\n",
       "      <td>...</td>\n",
       "    </tr>\n",
       "    <tr>\n",
       "      <th>546732</th>\n",
       "      <td>7498.994300</td>\n",
       "      <td>0.060215</td>\n",
       "      <td>6c74c793ff1aacdb38d2353364a6295b</td>\n",
       "    </tr>\n",
       "    <tr>\n",
       "      <th>840001</th>\n",
       "      <td>7498.997300</td>\n",
       "      <td>5.586848</td>\n",
       "      <td>be5db3aaf5d687e6a3a693be675ea2e0</td>\n",
       "    </tr>\n",
       "    <tr>\n",
       "      <th>875764</th>\n",
       "      <td>7498.997300</td>\n",
       "      <td>0.066966</td>\n",
       "      <td>eec7e6865b66a7b256ded7db506e2761</td>\n",
       "    </tr>\n",
       "    <tr>\n",
       "      <th>940140</th>\n",
       "      <td>7498.997300</td>\n",
       "      <td>0.026155</td>\n",
       "      <td>c6e6843bf888b5b81c7cf8f40750c76a</td>\n",
       "    </tr>\n",
       "    <tr>\n",
       "      <th>947294</th>\n",
       "      <td>7498.997300</td>\n",
       "      <td>0.033245</td>\n",
       "      <td>81126f1843896c3f6baa37872600cedc</td>\n",
       "    </tr>\n",
       "  </tbody>\n",
       "</table>\n",
       "<p>15414470 rows × 3 columns</p>\n",
       "</div>"
      ],
      "text/plain": [
       "           wavenumber  intensity                       sample_name\n",
       "18859275   900.000012   0.133510  b826e94d75e66fbf3885d38f20d2dc21\n",
       "22660335   900.000012   3.854880  c5b090627048e93d987d11f0ff628072\n",
       "28448492   900.000154   3.201210  3037666223719e1157c6e0688fabb2f2\n",
       "17573997   900.000154   1.229470  acd9308cb967cbeeafe4574222448290\n",
       "21289867   900.000154   3.201210  b25cd3333e5c5ba401fcdbcc667df7cf\n",
       "...               ...        ...                               ...\n",
       "546732    7498.994300   0.060215  6c74c793ff1aacdb38d2353364a6295b\n",
       "840001    7498.997300   5.586848  be5db3aaf5d687e6a3a693be675ea2e0\n",
       "875764    7498.997300   0.066966  eec7e6865b66a7b256ded7db506e2761\n",
       "940140    7498.997300   0.026155  c6e6843bf888b5b81c7cf8f40750c76a\n",
       "947294    7498.997300   0.033245  81126f1843896c3f6baa37872600cedc\n",
       "\n",
       "[15414470 rows x 3 columns]"
      ]
     },
     "execution_count": 14,
     "metadata": {},
     "output_type": "execute_result"
    }
   ],
   "source": [
    "import pandas as pd\n",
    "import numpy as np\n",
    "from scipy.signal import savgol_filter as sgf\n",
    "\n",
    "smoothing_window = 7\n",
    "smoothing_order = 2\n",
    "\n",
    "def deriv(p, w):\n",
    "    return p - np.roll(p,w)\n",
    "\n",
    "folder = r''\n",
    "\n",
    "OS_metadata = pd.read_csv('reference_absorbance_raw_metadata.csv', encoding='latin1')\n",
    "OS_library = pd.read_csv('reference_absorbance_raw.csv')\n",
    "OS_library = OS_library[((OS_library['wavenumber']<2300) | (OS_library['wavenumber']>2400)) & (OS_library['wavenumber']>900)]\n",
    "OS_library = OS_library.sort_values(by=['wavenumber'])\n",
    "OS_metadata = OS_metadata[OS_metadata['SpectrumType']=='FTIR']\n",
    "\n",
    "OS_int = pd.DataFrame()\n",
    "OS_derivative = pd.DataFrame()\n",
    "wavenos = np.array(range(900,4000,1))\n",
    "OS_int['wavenos'] = wavenos\n",
    "OS_int.set_index('wavenos')\n",
    "\n",
    "OS_derivative['wavenos'] = wavenos\n",
    "OS_derivative.set_index('wavenos')\n",
    "\n",
    "OS_library"
   ]
  },
  {
   "cell_type": "code",
   "execution_count": 31,
   "metadata": {},
   "outputs": [],
   "source": [
    "grouped = OS_library.groupby(['sample_name'])"
   ]
  },
  {
   "cell_type": "code",
   "execution_count": 25,
   "metadata": {},
   "outputs": [
    {
     "data": {
      "text/plain": [
       "'7845faf1bdee7d446eb351203cb61a55'"
      ]
     },
     "execution_count": 25,
     "metadata": {},
     "output_type": "execute_result"
    }
   ],
   "source": [
    "names = list(set(OS_library['sample_name']))\n",
    "names[0]"
   ]
  },
  {
   "cell_type": "code",
   "execution_count": 100,
   "metadata": {},
   "outputs": [],
   "source": [
    "def interpolator(frame):\n",
    "    try:\n",
    "        sigint = np.interp(wavenos,frame['wavenumber'],frame['intensity'])\n",
    "    except ValueError: sigint = np.zeros(len(wavenos))\n",
    "    sigint = sigint - np.min(sigint)\n",
    "    #der_sigint = sgf(deriv(sigint,smoothing_window),smoothing_window,smoothing_order)\n",
    "    print('frame')\n",
    "    return pd.Series(sigint)\n",
    "\n",
    "def deriv_smth(ser):\n",
    "    return pd.Series(sgf(deriv(ser,smoothing_window),smoothing_window,smoothing_order))\n"
   ]
  },
  {
   "cell_type": "code",
   "execution_count": 89,
   "metadata": {},
   "outputs": [],
   "source": [
    "%%capture\n",
    "OS_intT = grouped.apply(interpolator)\n",
    "#import matplotlib.pyplot as plt\n",
    "#plt.plot(OS_int[5544])\n",
    "\n",
    "OS_int = OS_intT.T.set_axis(wavenos)\n",
    "OS_int.index.names=['wavenumbers']\n"
   ]
  },
  {
   "cell_type": "code",
   "execution_count": 107,
   "metadata": {},
   "outputs": [
    {
     "data": {
      "text/plain": [
       "[<matplotlib.lines.Line2D at 0x1aa8fd64310>]"
      ]
     },
     "execution_count": 107,
     "metadata": {},
     "output_type": "execute_result"
    },
    {
     "data": {
      "image/png": "[encoded data removed]",
      "text/plain": [
       "<Figure size 432x288 with 1 Axes>"
      ]
     },
     "metadata": {
      "needs_background": "light"
     },
     "output_type": "display_data"
    }
   ],
   "source": [
    "OS_der = OS_int.apply(deriv_smth,axis=0)\n",
    "\n",
    "OS_der = OS_der.set_axis(wavenos)\n",
    "OS_der.index.names=['wavenumbers']\n"
   ]
  },
  {
   "cell_type": "code",
   "execution_count": 110,
   "metadata": {},
   "outputs": [
    {
     "data": {
      "text/plain": [
       "[<matplotlib.lines.Line2D at 0x1aa8b5f76d0>]"
      ]
     },
     "execution_count": 110,
     "metadata": {},
     "output_type": "execute_result"
    },
    {
     "data": {
      "image/png": "[encoded data removed]",
      "text/plain": [
       "<Figure size 432x288 with 1 Axes>"
      ]
     },
     "metadata": {
      "needs_background": "light"
     },
     "output_type": "display_data"
    }
   ],
   "source": [
    "\n",
    "plt.plot(OS_der['000a8932dd90f908f8108d2ade8b2140'])"
   ]
  },
  {
   "cell_type": "code",
   "execution_count": null,
   "metadata": {},
   "outputs": [],
   "source": [
    "\n",
    "for name in OS_metadata['sample_name']:\n",
    "    wn = OS_library[OS_library['sample_name']==name].sort_values(by='wavenumber')['wavenumber']\n",
    "    sig = OS_library[OS_library['sample_name']==name].sort_values(by='wavenumber')['intensity']\n",
    "    try:\n",
    "        sigint = np.interp(wavenos,wn,sig)\n",
    "    except ValueError: np.zeros(len(wavenos))\n",
    "    sigint = sigint - np.min(sigint)\n",
    "    OS_int[name] = sigint\n",
    "    der_sigint = sgf(deriv(sigint,smoothing_window),smoothing_window,smoothing_order)\n",
    "    OS_derivative[name] = der_sigint\n",
    "    print(name)\n",
    "\n",
    "\n",
    "file_int = 'open_specy_ftir_library_INTv2.csv'\n",
    "file_der = 'open_specy_ftir_library_DERINTv2.csv'\n",
    "\n",
    "OS_int.to_csv(file_int, index=False)\n",
    "OS_derivative.to_csv(file_der, index=False)\n",
    "\n",
    "print(OS_derivative)"
   ]
  }
 ],
 "metadata": {
  "interpreter": {
   "hash": "b35feadf9a22c1348a7635856ffe99087238bbd4c8fccd15a63d910b7ea9b4d0"
  },
  "kernelspec": {
   "display_name": "Python 3.8.11 ('base')",
   "language": "python",
   "name": "python3"
  },
  "language_info": {
   "codemirror_mode": {
    "name": "ipython",
    "version": 3
   },
   "file_extension": ".py",
   "mimetype": "text/x-python",
   "name": "python",
   "nbconvert_exporter": "python",
   "pygments_lexer": "ipython3",
   "version": "3.8.11"
  },
  "orig_nbformat": 4
 },
 "nbformat": 4,
 "nbformat_minor": 2
}
